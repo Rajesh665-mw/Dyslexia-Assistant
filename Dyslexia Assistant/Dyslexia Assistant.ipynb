#  Install dependencies
!pip install transformers sentencepiece PyMuPDF --quiet

#  Upload your PDF
from google.colab import files
uploaded = files.upload()
pdf_path = list(uploaded.keys())[0]

#  Extract text using PyMuPDF
import fitz  # PyMuPDF

def extract_text_from_pdf(file_path):
    doc = fitz.open(file_path)
    return "\n".join([page.get_text() for page in doc])

text = extract_text_from_pdf(pdf_path)
print(" Extracted Text (first 500 chars):\n")
print(text[:500])
print("\n" + "-"*60 + "\n")

#  Load the T5 model for simplification
from transformers import T5Tokenizer, T5ForConditionalGeneration

tokenizer = T5Tokenizer.from_pretrained("t5-small")
model = T5ForConditionalGeneration.from_pretrained("t5-small")

#  Function to simplify text
def simplify_text_t5(text):
    input_text = "simplify: " + text
    input_ids = tokenizer.encode(input_text, return_tensors="pt", max_length=512, truncation=True)
    output = model.generate(input_ids, max_length=150, num_beams=4, early_stopping=True)
    return tokenizer.decode(output[0], skip_special_tokens=True)

#  Simplify first 2-3 sentences from the PDF
simplified_output = simplify_text_t5(text[:300])
print(" Simplified Text:\n")
print(simplified_output)
